{
 "cells": [
  {
   "cell_type": "code",
   "execution_count": 1,
   "id": "ba906852",
   "metadata": {},
   "outputs": [],
   "source": [
    "import numpy as np\n",
    "from scipy.optimize import minimize"
   ]
  },
  {
   "cell_type": "markdown",
   "id": "ce7babfd",
   "metadata": {},
   "source": [
    "Define a class Tableau, which can be initalized from a string input in markdown format.\n",
    "\n",
    "Has instance attributes for input to tableau, winning output, a list of candidate outputs, and a dictionary of violations each candidate makes of constraints. The class also has a constraint attribute, which ensures that all Tableaus are working from the same set of constraints"
   ]
  },
  {
   "cell_type": "code",
   "execution_count": 2,
   "id": "764e8788",
   "metadata": {},
   "outputs": [],
   "source": [
    "class Tableau:\n",
    "    constraints = [\"LeftFoc\", \"NiFoc\", \"LeftP\", \"DelLow\", \"DepC\", \"MaxSubj\", \"DepSubj\",\n",
    "                   \"MaxObj\", \"DepObj\", \"MaxPoss\", \"DepPoss\", \"MaxV\", \"DepV\", \"MaxAdj\"]\n",
    "    \n",
    "    def fix(my_constraints, v):\n",
    "        \"\"\"\n",
    "        Given a list of constraints MY_CONSTRAINTS that corresponds to a list V, repairs\n",
    "        V to correspond to Tableau.CONSTRAINTS by appropriately sorting and inserting\n",
    "        zeroes\n",
    "        \"\"\"\n",
    "        fixed = []\n",
    "        for c in Tableau.constraints:\n",
    "            if c in my_constraints:\n",
    "                fixed.append(v[my_constraints.index(c)])\n",
    "            else:\n",
    "                fixed.append(0)\n",
    "        return fixed\n",
    "    \n",
    "    def __init__(self, tableau_txt):\n",
    "        \"\"\"\n",
    "        Initializes new tableau object from given input in string form\n",
    "        \"\"\"\n",
    "        tableau_txt = tableau_txt.strip().split(\"\\n\")\n",
    "        self.inpt = tableau_txt.pop(0)\n",
    "        tableau_txt = [line.split(\"|\")[1:] for line in tableau_txt]\n",
    "        tableau_txt = [[el.strip() for el in line] for line in tableau_txt]\n",
    "        my_constraints = tableau_txt[0][1:-1]\n",
    "        tableau_txt = tableau_txt[2:]\n",
    "        self.candidates = [line[0] for line in tableau_txt]\n",
    "        self.winner = max(self.candidates, key=lambda s: '+' in s)\n",
    "        self.winner_ind = self.candidates.index(self.winner)\n",
    "        self.violations = {line[0]:\n",
    "                           np.array(Tableau.fix(my_constraints,\n",
    "                                                [int(line[i + 1] == '*') for i in range(len(my_constraints))]))\n",
    "                           for line in tableau_txt}\n",
    "        \n",
    "    def calc_probs(self, w):\n",
    "        \"\"\"\n",
    "        Given a vector of weights W, calculates the output probability for each candidate\n",
    "        \"\"\"\n",
    "        viols = np.exp([np.dot(w, self.violations[row]) for row in self.violations])\n",
    "        return list(viols / np.sum(viols))\n",
    "    \n",
    "    def str_from_weight(self, w):\n",
    "        \"\"\"\n",
    "        Outputs a string representation of the tableau, where weights and probability of candidate outputs\n",
    "        are arranged according to what would be predicted by W\n",
    "        \"\"\"\n",
    "        probs = self.calc_probs(w)\n",
    "        sorted_candidates = sorted(zip(self.candidates, probs), key=lambda x: -x[1])\n",
    "        sorted_constraints = sorted(zip(self.constraints, w, range(len(w))), key=lambda x: x[1])\n",
    "        str_template = \"| ({:.3f}) {:<\" + str(max([len(c) for c in self.candidates])) + \"} |\" + \"\".join(\n",
    "            [\" {:<\" + str(len(c)) + \"} |\" for c,_,_ in sorted_constraints])\n",
    "        otpt_str = [\"INPUT: \" + self.inpt]\n",
    "        row = [0, \"Candidate\"] + [c for c,_,_ in sorted_constraints]\n",
    "        otpt_str.append(str_template.format(*row))\n",
    "        otpt_str.append(\"|\" + '-' * (max([len(c) for c in self.candidates]) + 10) + \"|\" + \"\".join(\n",
    "            [\"-\" * (len(c) + 2) + \"|\" for c,_,_ in sorted_constraints]))\n",
    "        for cand,prob in sorted_candidates:\n",
    "            row = [prob, cand]\n",
    "            for cons,weight,i in sorted_constraints:\n",
    "                row.append('*' if self.violations[cand][i] == 1 else ' ')\n",
    "            to_add = str_template.format(*row)\n",
    "            index = to_add.find('.') + 1\n",
    "            to_add = to_add[:index] + ' ' * (cand.count(\"ẹ́\") + cand.count(\"ọ̀\")) + to_add[index:]\n",
    "            otpt_str.append(to_add)\n",
    "            \n",
    "        return \"\\n\".join(otpt_str)\n",
    "        \n",
    "    def __repr__(self):\n",
    "        s = \"Input: \" + self.inpt\n",
    "        s += \"\\nWinner: \" + self.winner\n",
    "        s += \"\\nViolations \" + str(self.violations)\n",
    "        return s"
   ]
  },
  {
   "cell_type": "markdown",
   "id": "bcfac3c1",
   "metadata": {},
   "source": [
    "Reads in all tableaus from local markdown file, and converts each of them to Tableau objects."
   ]
  },
  {
   "cell_type": "code",
   "execution_count": 3,
   "id": "8be8dd58",
   "metadata": {},
   "outputs": [],
   "source": [
    "f = open(\"tableaus.md\", \"r\")\n",
    "contents = f.read()\n",
    "f.close()\n",
    "contents = contents.split(\"INPUT:\")[1:]\n",
    "contents = [Tableau(c) for c in contents]"
   ]
  },
  {
   "cell_type": "markdown",
   "id": "57e214b4",
   "metadata": {},
   "source": [
    "Define an objective function based on Goldwater and Johnson."
   ]
  },
  {
   "cell_type": "code",
   "execution_count": 4,
   "id": "bd1c03ca",
   "metadata": {},
   "outputs": [],
   "source": [
    "def obj(w,s2,c):\n",
    "    ll = [np.exp([np.dot(w, t.violations[l]) for l in t.candidates]) for t in c]\n",
    "    ll = [l / np.sum(l) for l in ll]\n",
    "    ll = [ll[i][c[i].winner_ind] for i in range(len(ll))]\n",
    "    ll = np.sum(np.log(ll))\n",
    "    reg = np.sum(np.square(w) / s2)\n",
    "    objective = ll - reg\n",
    "    return -objective"
   ]
  },
  {
   "cell_type": "markdown",
   "id": "1ceced9e",
   "metadata": {},
   "source": [
    "Optimize over that objective function."
   ]
  },
  {
   "cell_type": "code",
   "execution_count": 5,
   "id": "de714ba0",
   "metadata": {},
   "outputs": [
    {
     "name": "stdout",
     "output_type": "stream",
     "text": [
      "objective before minimization 22.45751442363649\n",
      "Optimization terminated successfully.\n",
      "         Current function value: 0.779621\n",
      "         Iterations: 124\n",
      "         Function evaluations: 1792\n",
      "         Gradient evaluations: 128\n",
      "objective after minimization 0.7796205018533113\n"
     ]
    }
   ],
   "source": [
    "w = [0.0] * len(contents[0].constraints) # Initializes w to all zeroes\n",
    "s2 = 33333 # Sets s2 based on value in G&J (which seems to work for this problem pretty well)\n",
    "\n",
    "print(\"objective before minimization\", obj(w,s2,contents))\n",
    "res = minimize(obj, w,args=(s2,contents), \n",
    "               options={'disp': True, 'maxiter': 10000}, \n",
    "               tol = 1.0E-6)\n",
    "print(\"objective after minimization\", res.fun)"
   ]
  },
  {
   "cell_type": "markdown",
   "id": "3ea11204",
   "metadata": {},
   "source": [
    "Write resulting tableaus to an output file"
   ]
  },
  {
   "cell_type": "code",
   "execution_count": 6,
   "id": "800bdcd1",
   "metadata": {},
   "outputs": [],
   "source": [
    "write_out = \"CONSTRAINT WEIGHTS:\\n\"\n",
    "\n",
    "for cons,weight in sorted(zip(contents[0].constraints, res.x), key=lambda x: x[1]):\n",
    "    write_out += \"{:<7} {:.2f}\\n\".format(cons, weight)\n",
    "    \n",
    "write_out += \"\\n\"\n",
    "\n",
    "for t in contents:\n",
    "    write_out += t.str_from_weight(res.x)\n",
    "    write_out += \"\\n\\n\"\n",
    "    \n",
    "f = open(\"output_tableaus.md\", \"w\")\n",
    "contents = f.write(write_out)\n",
    "f.close()"
   ]
  },
  {
   "cell_type": "code",
   "execution_count": null,
   "id": "29a12361",
   "metadata": {},
   "outputs": [],
   "source": []
  }
 ],
 "metadata": {
  "kernelspec": {
   "display_name": "Python 3 (ipykernel)",
   "language": "python",
   "name": "python3"
  },
  "language_info": {
   "codemirror_mode": {
    "name": "ipython",
    "version": 3
   },
   "file_extension": ".py",
   "mimetype": "text/x-python",
   "name": "python",
   "nbconvert_exporter": "python",
   "pygments_lexer": "ipython3",
   "version": "3.9.7"
  }
 },
 "nbformat": 4,
 "nbformat_minor": 5
}
